{
 "cells": [
  {
   "cell_type": "markdown",
   "metadata": {},
   "source": [
    "# Wine Classification (Red vs White) - Problem Framing\n",
    "\n",
    "\n",
    "## Context\n",
    "Using the UCI Wine Quality dataset (Portuguese Vinho Verde, 2004-2007), we're building a binary classifier to distinguish red from white wines based on 11 physicochemical properties. Why? Because chemistry reveals patterns invisible to the eye, and automated classification has real applications in quality control, inventory management, and fraud detection.\n",
    "\n",
    "## Why This Matters\n",
    "- **Quality Control**: Rapid verification without tasting every batch\n",
    "- **Education**: Teaching classification concepts with interpretable features\n",
    "- **Consumer Transparency**: Understanding what makes wines chemically distinct"
   ]
  },
  {
   "cell_type": "code",
   "metadata": {
    "execution": {
     "iopub.execute_input": "2025-09-18T10:38:20.859170Z",
     "iopub.status.busy": "2025-09-18T10:38:20.859032Z",
     "iopub.status.idle": "2025-09-18T10:38:22.329149Z",
     "shell.execute_reply": "2025-09-18T10:38:22.328816Z"
    },
    "ExecuteTime": {
     "end_time": "2025-10-14T22:08:00.768580Z",
     "start_time": "2025-10-14T22:08:00.765185Z"
    }
   },
   "source": [
    "import sys\n",
    "import pandas as pd\n",
    "import numpy as np\n",
    "import matplotlib.pyplot as plt\n",
    "import seaborn as sns\n",
    "import sklearn\n",
    "import warnings\n",
    "warnings.filterwarnings('ignore')\n",
    "\n",
    "# Reproducibility\n",
    "np.random.seed(42)\n",
    "plt.style.use('seaborn-v0_8-darkgrid')\n",
    "\n",
    "# Version check for reproducibility\n",
    "print(\"Environment:\")\n",
    "print(f\"Python: {sys.version.split()[0]}\")\n",
    "print(f\"pandas: {pd.__version__}\")\n",
    "print(f\"numpy: {np.__version__}\")\n",
    "print(f\"scikit-learn: {sklearn.__version__}\")\n",
    "print(f\"matplotlib: {plt.matplotlib.__version__}\")\n",
    "print(f\"seaborn: {sns.__version__}\")"
   ],
   "outputs": [
    {
     "name": "stdout",
     "output_type": "stream",
     "text": [
      "Environment:\n",
      "Python: 3.12.7\n",
      "pandas: 2.3.3\n",
      "numpy: 1.26.4\n",
      "scikit-learn: 1.7.2\n",
      "matplotlib: 3.10.6\n",
      "seaborn: 0.13.2\n"
     ]
    }
   ],
   "execution_count": 25
  },
  {
   "cell_type": "markdown",
   "metadata": {},
   "source": [
    "## Problem Definition\n",
    "\n",
    "### The Task\n",
    "**Binary classification**: Given 11 chemical measurements, predict wine type (red=0, white=1).\n",
    "\n",
    "### Five-Part Specification\n",
    "**Predict whether** a wine sample **is** red or white **at** testing time **using** laboratory chemistry **to enable** automated quality control.\n",
    "\n",
    "- **Decision**: Wine type (binary)\n",
    "- **Unit**: Individual wine sample\n",
    "- **Horizon**: Immediate (at chemical analysis)\n",
    "- **Evidence**: pH, alcohol, sulfur dioxide, acidity, etc.\n",
    "- **Action**: Route to appropriate storage/processing"
   ]
  },
  {
   "cell_type": "markdown",
   "metadata": {},
   "source": [
    "## 2. Business Context & Stakeholders\n",
    "\n",
    "### Primary Stakeholders\n",
    "- **Wine Producers**: Need rapid quality assessment\n",
    "- **Quality Control Teams**: Require consistent classification\n",
    "- **Inventory Managers**: Need accurate sorting\n",
    "\n",
    "### Impact Assessment\n",
    "- **Benefits**: Automated sorting, reduced labor costs, consistent quality\n",
    "- **Risks**: Misclassification could affect pricing and customer satisfaction"
   ]
  },
  {
   "cell_type": "markdown",
   "metadata": {},
   "source": [
    "## Stakeholders & Impact\n",
    "\n",
    "### Who Benefits\n",
    "- **QC Teams**: Faster batch verification, reduced manual testing\n",
    "- **Educators**: Clean dataset for teaching classification fundamentals\n",
    "- **Data Practitioners**: Benchmark for testing new algorithms\n",
    "\n",
    "### Limitations We Acknowledge\n",
    "- **Chemistry ≠ Taste**: We classify type, not quality or preference\n",
    "- **Regional Bias**: Portuguese wines only - may not generalize globally\n",
    "- **Static Snapshot**: 2004-2007 data, wine chemistry evolves with climate\n",
    "\n",
    "### Ethics & Sustainability\n",
    "- **Bias**: Model trained on one region's wines could misclassify others\n",
    "- **Environmental**: Automated testing reduces chemical waste, but consider compute costs\n",
    "- **Transport**: Better classification could optimize shipping (reds/whites have different storage needs)"
   ]
  },
  {
   "cell_type": "code",
   "metadata": {
    "execution": {
     "iopub.execute_input": "2025-09-18T10:38:22.350454Z",
     "iopub.status.busy": "2025-09-18T10:38:22.350193Z",
     "iopub.status.idle": "2025-09-18T10:38:22.366372Z",
     "shell.execute_reply": "2025-09-18T10:38:22.365823Z"
    },
    "ExecuteTime": {
     "end_time": "2025-10-14T22:08:00.790072Z",
     "start_time": "2025-10-14T22:08:00.779857Z"
    }
   },
   "source": [
    "# Load datasets\n",
    "red_wine = pd.read_csv('../data/winequality-red.csv', delimiter=';')\n",
    "white_wine = pd.read_csv('../data/winequality-white.csv', delimiter=';')\n",
    "\n",
    "# Add wine type labels\n",
    "red_wine['wine_type'] = 0  # Red\n",
    "white_wine['wine_type'] = 1  # White\n",
    "\n",
    "# Combine datasets\n",
    "wine_data = pd.concat([red_wine, white_wine], ignore_index=True)\n",
    "\n",
    "print(f\"Dataset shape: {wine_data.shape}\")\n",
    "print(f\"Red wines: {len(red_wine)} samples ({len(red_wine)/len(wine_data)*100:.1f}%)\")\n",
    "print(f\"White wines: {len(white_wine)} samples ({len(white_wine)/len(wine_data)*100:.1f}%)\")"
   ],
   "outputs": [
    {
     "name": "stdout",
     "output_type": "stream",
     "text": [
      "Dataset shape: (6497, 13)\n",
      "Red wines: 1599 samples (24.6%)\n",
      "White wines: 4898 samples (75.4%)\n"
     ]
    }
   ],
   "execution_count": 26
  },
  {
   "cell_type": "markdown",
   "metadata": {},
   "source": [
    "## Data Source & License\n",
    "\n",
    "**Data source & license.** UCI Machine Learning Repository - *Wine Quality* (Cortez et al., 2009), Vinho Verde (Portugal), 2004–2007.\n",
    "Laboratory physicochemical measurements + expert \"quality\" scores.  \n",
    "Use per UCI terms; redistribute CSVs for research/education."
   ]
  },
  {
   "cell_type": "code",
   "metadata": {
    "execution": {
     "iopub.execute_input": "2025-09-18T10:38:22.369034Z",
     "iopub.status.busy": "2025-09-18T10:38:22.368866Z",
     "iopub.status.idle": "2025-09-18T10:38:22.377484Z",
     "shell.execute_reply": "2025-09-18T10:38:22.377076Z"
    },
    "ExecuteTime": {
     "end_time": "2025-10-14T22:08:00.804607Z",
     "start_time": "2025-10-14T22:08:00.799226Z"
    }
   },
   "source": [
    "# Display first few rows\n",
    "wine_data.head()"
   ],
   "outputs": [
    {
     "data": {
      "text/plain": [
       "   fixed acidity  volatile acidity  citric acid  residual sugar  chlorides  \\\n",
       "0            7.4              0.70         0.00             1.9      0.076   \n",
       "1            7.8              0.88         0.00             2.6      0.098   \n",
       "2            7.8              0.76         0.04             2.3      0.092   \n",
       "3           11.2              0.28         0.56             1.9      0.075   \n",
       "4            7.4              0.70         0.00             1.9      0.076   \n",
       "\n",
       "   free sulfur dioxide  total sulfur dioxide  density    pH  sulphates  \\\n",
       "0                 11.0                  34.0   0.9978  3.51       0.56   \n",
       "1                 25.0                  67.0   0.9968  3.20       0.68   \n",
       "2                 15.0                  54.0   0.9970  3.26       0.65   \n",
       "3                 17.0                  60.0   0.9980  3.16       0.58   \n",
       "4                 11.0                  34.0   0.9978  3.51       0.56   \n",
       "\n",
       "   alcohol  quality  wine_type  \n",
       "0      9.4        5          0  \n",
       "1      9.8        5          0  \n",
       "2      9.8        5          0  \n",
       "3      9.8        6          0  \n",
       "4      9.4        5          0  "
      ],
      "text/html": [
       "<div>\n",
       "<style scoped>\n",
       "    .dataframe tbody tr th:only-of-type {\n",
       "        vertical-align: middle;\n",
       "    }\n",
       "\n",
       "    .dataframe tbody tr th {\n",
       "        vertical-align: top;\n",
       "    }\n",
       "\n",
       "    .dataframe thead th {\n",
       "        text-align: right;\n",
       "    }\n",
       "</style>\n",
       "<table border=\"1\" class=\"dataframe\">\n",
       "  <thead>\n",
       "    <tr style=\"text-align: right;\">\n",
       "      <th></th>\n",
       "      <th>fixed acidity</th>\n",
       "      <th>volatile acidity</th>\n",
       "      <th>citric acid</th>\n",
       "      <th>residual sugar</th>\n",
       "      <th>chlorides</th>\n",
       "      <th>free sulfur dioxide</th>\n",
       "      <th>total sulfur dioxide</th>\n",
       "      <th>density</th>\n",
       "      <th>pH</th>\n",
       "      <th>sulphates</th>\n",
       "      <th>alcohol</th>\n",
       "      <th>quality</th>\n",
       "      <th>wine_type</th>\n",
       "    </tr>\n",
       "  </thead>\n",
       "  <tbody>\n",
       "    <tr>\n",
       "      <th>0</th>\n",
       "      <td>7.4</td>\n",
       "      <td>0.70</td>\n",
       "      <td>0.00</td>\n",
       "      <td>1.9</td>\n",
       "      <td>0.076</td>\n",
       "      <td>11.0</td>\n",
       "      <td>34.0</td>\n",
       "      <td>0.9978</td>\n",
       "      <td>3.51</td>\n",
       "      <td>0.56</td>\n",
       "      <td>9.4</td>\n",
       "      <td>5</td>\n",
       "      <td>0</td>\n",
       "    </tr>\n",
       "    <tr>\n",
       "      <th>1</th>\n",
       "      <td>7.8</td>\n",
       "      <td>0.88</td>\n",
       "      <td>0.00</td>\n",
       "      <td>2.6</td>\n",
       "      <td>0.098</td>\n",
       "      <td>25.0</td>\n",
       "      <td>67.0</td>\n",
       "      <td>0.9968</td>\n",
       "      <td>3.20</td>\n",
       "      <td>0.68</td>\n",
       "      <td>9.8</td>\n",
       "      <td>5</td>\n",
       "      <td>0</td>\n",
       "    </tr>\n",
       "    <tr>\n",
       "      <th>2</th>\n",
       "      <td>7.8</td>\n",
       "      <td>0.76</td>\n",
       "      <td>0.04</td>\n",
       "      <td>2.3</td>\n",
       "      <td>0.092</td>\n",
       "      <td>15.0</td>\n",
       "      <td>54.0</td>\n",
       "      <td>0.9970</td>\n",
       "      <td>3.26</td>\n",
       "      <td>0.65</td>\n",
       "      <td>9.8</td>\n",
       "      <td>5</td>\n",
       "      <td>0</td>\n",
       "    </tr>\n",
       "    <tr>\n",
       "      <th>3</th>\n",
       "      <td>11.2</td>\n",
       "      <td>0.28</td>\n",
       "      <td>0.56</td>\n",
       "      <td>1.9</td>\n",
       "      <td>0.075</td>\n",
       "      <td>17.0</td>\n",
       "      <td>60.0</td>\n",
       "      <td>0.9980</td>\n",
       "      <td>3.16</td>\n",
       "      <td>0.58</td>\n",
       "      <td>9.8</td>\n",
       "      <td>6</td>\n",
       "      <td>0</td>\n",
       "    </tr>\n",
       "    <tr>\n",
       "      <th>4</th>\n",
       "      <td>7.4</td>\n",
       "      <td>0.70</td>\n",
       "      <td>0.00</td>\n",
       "      <td>1.9</td>\n",
       "      <td>0.076</td>\n",
       "      <td>11.0</td>\n",
       "      <td>34.0</td>\n",
       "      <td>0.9978</td>\n",
       "      <td>3.51</td>\n",
       "      <td>0.56</td>\n",
       "      <td>9.4</td>\n",
       "      <td>5</td>\n",
       "      <td>0</td>\n",
       "    </tr>\n",
       "  </tbody>\n",
       "</table>\n",
       "</div>"
      ]
     },
     "execution_count": 27,
     "metadata": {},
     "output_type": "execute_result"
    }
   ],
   "execution_count": 27
  },
  {
   "cell_type": "code",
   "metadata": {
    "execution": {
     "iopub.execute_input": "2025-09-18T10:38:22.379629Z",
     "iopub.status.busy": "2025-09-18T10:38:22.379501Z",
     "iopub.status.idle": "2025-09-18T10:38:22.385270Z",
     "shell.execute_reply": "2025-09-18T10:38:22.384777Z"
    },
    "ExecuteTime": {
     "end_time": "2025-10-14T22:08:00.819218Z",
     "start_time": "2025-10-14T22:08:00.814841Z"
    }
   },
   "source": [
    "# Check data types and missing values\n",
    "print(\"Data Info:\")\n",
    "print(wine_data.info())\n",
    "print(\"\\nMissing values:\")\n",
    "print(wine_data.isnull().sum())"
   ],
   "outputs": [
    {
     "name": "stdout",
     "output_type": "stream",
     "text": [
      "Data Info:\n",
      "<class 'pandas.core.frame.DataFrame'>\n",
      "RangeIndex: 6497 entries, 0 to 6496\n",
      "Data columns (total 13 columns):\n",
      " #   Column                Non-Null Count  Dtype  \n",
      "---  ------                --------------  -----  \n",
      " 0   fixed acidity         6497 non-null   float64\n",
      " 1   volatile acidity      6497 non-null   float64\n",
      " 2   citric acid           6497 non-null   float64\n",
      " 3   residual sugar        6497 non-null   float64\n",
      " 4   chlorides             6497 non-null   float64\n",
      " 5   free sulfur dioxide   6497 non-null   float64\n",
      " 6   total sulfur dioxide  6497 non-null   float64\n",
      " 7   density               6497 non-null   float64\n",
      " 8   pH                    6497 non-null   float64\n",
      " 9   sulphates             6497 non-null   float64\n",
      " 10  alcohol               6497 non-null   float64\n",
      " 11  quality               6497 non-null   int64  \n",
      " 12  wine_type             6497 non-null   int64  \n",
      "dtypes: float64(11), int64(2)\n",
      "memory usage: 660.0 KB\n",
      "None\n",
      "\n",
      "Missing values:\n",
      "fixed acidity           0\n",
      "volatile acidity        0\n",
      "citric acid             0\n",
      "residual sugar          0\n",
      "chlorides               0\n",
      "free sulfur dioxide     0\n",
      "total sulfur dioxide    0\n",
      "density                 0\n",
      "pH                      0\n",
      "sulphates               0\n",
      "alcohol                 0\n",
      "quality                 0\n",
      "wine_type               0\n",
      "dtype: int64\n"
     ]
    }
   ],
   "execution_count": 28
  },
  {
   "cell_type": "markdown",
   "metadata": {},
   "source": [
    "## 4. Feature Overview\n",
    "\n",
    "### Physicochemical Properties\n",
    "- **Acidity measures**: fixed acidity, volatile acidity, citric acid\n",
    "- **Sugar & density**: residual sugar, density\n",
    "- **Sulfur compounds**: free/total sulfur dioxide\n",
    "- **Other**: pH, sulphates, alcohol, chlorides"
   ]
  },
  {
   "cell_type": "code",
   "metadata": {
    "execution": {
     "iopub.execute_input": "2025-09-18T10:38:22.387335Z",
     "iopub.status.busy": "2025-09-18T10:38:22.387223Z",
     "iopub.status.idle": "2025-09-18T10:38:22.393031Z",
     "shell.execute_reply": "2025-09-18T10:38:22.392628Z"
    },
    "ExecuteTime": {
     "end_time": "2025-10-14T22:08:00.836637Z",
     "start_time": "2025-10-14T22:08:00.831212Z"
    }
   },
   "source": [
    "# Feature statistics by wine type\n",
    "feature_cols = wine_data.columns[:-1]  # Exclude wine_type\n",
    "comparison = wine_data.groupby('wine_type')[feature_cols].mean().T\n",
    "comparison.columns = ['Red Wine', 'White Wine']\n",
    "comparison['Difference'] = comparison['White Wine'] - comparison['Red Wine']\n",
    "comparison.round(3)"
   ],
   "outputs": [
    {
     "data": {
      "text/plain": [
       "                      Red Wine  White Wine  Difference\n",
       "fixed acidity            8.320       6.855      -1.465\n",
       "volatile acidity         0.528       0.278      -0.250\n",
       "citric acid              0.271       0.334       0.063\n",
       "residual sugar           2.539       6.391       3.853\n",
       "chlorides                0.087       0.046      -0.042\n",
       "free sulfur dioxide     15.875      35.308      19.433\n",
       "total sulfur dioxide    46.468     138.361      91.893\n",
       "density                  0.997       0.994      -0.003\n",
       "pH                       3.311       3.188      -0.123\n",
       "sulphates                0.658       0.490      -0.168\n",
       "alcohol                 10.423      10.514       0.091\n",
       "quality                  5.636       5.878       0.242"
      ],
      "text/html": [
       "<div>\n",
       "<style scoped>\n",
       "    .dataframe tbody tr th:only-of-type {\n",
       "        vertical-align: middle;\n",
       "    }\n",
       "\n",
       "    .dataframe tbody tr th {\n",
       "        vertical-align: top;\n",
       "    }\n",
       "\n",
       "    .dataframe thead th {\n",
       "        text-align: right;\n",
       "    }\n",
       "</style>\n",
       "<table border=\"1\" class=\"dataframe\">\n",
       "  <thead>\n",
       "    <tr style=\"text-align: right;\">\n",
       "      <th></th>\n",
       "      <th>Red Wine</th>\n",
       "      <th>White Wine</th>\n",
       "      <th>Difference</th>\n",
       "    </tr>\n",
       "  </thead>\n",
       "  <tbody>\n",
       "    <tr>\n",
       "      <th>fixed acidity</th>\n",
       "      <td>8.320</td>\n",
       "      <td>6.855</td>\n",
       "      <td>-1.465</td>\n",
       "    </tr>\n",
       "    <tr>\n",
       "      <th>volatile acidity</th>\n",
       "      <td>0.528</td>\n",
       "      <td>0.278</td>\n",
       "      <td>-0.250</td>\n",
       "    </tr>\n",
       "    <tr>\n",
       "      <th>citric acid</th>\n",
       "      <td>0.271</td>\n",
       "      <td>0.334</td>\n",
       "      <td>0.063</td>\n",
       "    </tr>\n",
       "    <tr>\n",
       "      <th>residual sugar</th>\n",
       "      <td>2.539</td>\n",
       "      <td>6.391</td>\n",
       "      <td>3.853</td>\n",
       "    </tr>\n",
       "    <tr>\n",
       "      <th>chlorides</th>\n",
       "      <td>0.087</td>\n",
       "      <td>0.046</td>\n",
       "      <td>-0.042</td>\n",
       "    </tr>\n",
       "    <tr>\n",
       "      <th>free sulfur dioxide</th>\n",
       "      <td>15.875</td>\n",
       "      <td>35.308</td>\n",
       "      <td>19.433</td>\n",
       "    </tr>\n",
       "    <tr>\n",
       "      <th>total sulfur dioxide</th>\n",
       "      <td>46.468</td>\n",
       "      <td>138.361</td>\n",
       "      <td>91.893</td>\n",
       "    </tr>\n",
       "    <tr>\n",
       "      <th>density</th>\n",
       "      <td>0.997</td>\n",
       "      <td>0.994</td>\n",
       "      <td>-0.003</td>\n",
       "    </tr>\n",
       "    <tr>\n",
       "      <th>pH</th>\n",
       "      <td>3.311</td>\n",
       "      <td>3.188</td>\n",
       "      <td>-0.123</td>\n",
       "    </tr>\n",
       "    <tr>\n",
       "      <th>sulphates</th>\n",
       "      <td>0.658</td>\n",
       "      <td>0.490</td>\n",
       "      <td>-0.168</td>\n",
       "    </tr>\n",
       "    <tr>\n",
       "      <th>alcohol</th>\n",
       "      <td>10.423</td>\n",
       "      <td>10.514</td>\n",
       "      <td>0.091</td>\n",
       "    </tr>\n",
       "    <tr>\n",
       "      <th>quality</th>\n",
       "      <td>5.636</td>\n",
       "      <td>5.878</td>\n",
       "      <td>0.242</td>\n",
       "    </tr>\n",
       "  </tbody>\n",
       "</table>\n",
       "</div>"
      ]
     },
     "execution_count": 29,
     "metadata": {},
     "output_type": "execute_result"
    }
   ],
   "execution_count": 29
  },
  {
   "cell_type": "markdown",
   "metadata": {},
   "source": [
    "## 5. Class Balance Analysis"
   ]
  },
  {
   "cell_type": "code",
   "metadata": {
    "execution": {
     "iopub.execute_input": "2025-09-18T10:38:22.394938Z",
     "iopub.status.busy": "2025-09-18T10:38:22.394816Z",
     "iopub.status.idle": "2025-09-18T10:38:22.520504Z",
     "shell.execute_reply": "2025-09-18T10:38:22.519746Z"
    },
    "ExecuteTime": {
     "end_time": "2025-10-14T22:08:00.911933Z",
     "start_time": "2025-10-14T22:08:00.842506Z"
    }
   },
   "source": [
    "fig, (ax1, ax2) = plt.subplots(1, 2, figsize=(12, 4))\n",
    "\n",
    "# Counts\n",
    "wine_counts = wine_data[\"wine_type\"].value_counts().sort_index()  # 0=red, 1=white\n",
    "labels = [\"Red (0)\", \"White (1)\"]\n",
    "colors = [\"#8B0000\", \"#FFD700\"]  # Dark red and gold\n",
    "\n",
    "# Bar chart (absolute counts)\n",
    "bars = ax1.bar(labels, wine_counts.values, color=colors, edgecolor='black', linewidth=1.5)\n",
    "ax1.set_title(\"Wine Type Distribution: The Imbalanced Truth\", fontweight='bold')\n",
    "ax1.set_ylabel(\"Number of Samples\")\n",
    "for b, v in zip(bars, wine_counts.values):\n",
    "    ax1.text(b.get_x() + b.get_width()/2, v + 50, f\"{v:,}\", ha=\"center\", va=\"bottom\", fontweight='bold')\n",
    "ax1.grid(True, axis='y', alpha=0.3)\n",
    "\n",
    "# Pie chart (proportions)\n",
    "ax2.pie(\n",
    "    wine_counts.values,\n",
    "    labels=[\"Red\", \"White\"],\n",
    "    colors=colors,\n",
    "    autopct=\"%1.1f%%\",\n",
    "    startangle=90,\n",
    "    wedgeprops={'edgecolor': 'black', 'linewidth': 1.5}\n",
    ")\n",
    "ax2.set_title(\"Proportion of Wine Types\", fontweight='bold')\n",
    "\n",
    "plt.tight_layout()\n",
    "plt.show()"
   ],
   "outputs": [
    {
     "data": {
      "text/plain": [
       "<Figure size 1200x400 with 2 Axes>"
      ],
      "image/png": "[encoded data removed]"
     },
     "metadata": {},
     "output_type": "display_data"
    }
   ],
   "execution_count": 30
  },
  {
   "cell_type": "markdown",
   "metadata": {},
   "source": [
    "Whites are ~3× more frequent than reds (≈75% vs 25%).  \n",
    "This imbalance means accuracy alone can mislead; I'll report macro-F1 and class-wise metrics later.  \n",
    "When splitting the data, I'll use stratification to preserve these proportions."
   ]
  },
  {
   "cell_type": "markdown",
   "metadata": {
    "ExecuteTime": {
     "end_time": "2025-09-18T10:28:18.469413Z",
     "start_time": "2025-09-18T10:28:18.467007Z"
    },
    "execution": {
     "iopub.execute_input": "2025-09-18T10:21:32.610351Z",
     "iopub.status.busy": "2025-09-18T10:21:32.610108Z",
     "iopub.status.idle": "2025-09-18T10:21:32.614883Z",
     "shell.execute_reply": "2025-09-18T10:21:32.614419Z"
    }
   },
   "source": [
    "## 6. Success Metrics Definition\n",
    "\n",
    "**Primary metrics.** Accuracy (for intuition) + **macro-F1** (class balance) with confusion matrix.  \n",
    "**Baselines.** Majority-class accuracy ≈ **75.4%** → any useful model must beat this comfortably.  \n",
    "**Target.** ≥ **95%** accuracy / high macro-F1 is realistic given separability of chemistry features (validated in literature and prior student work).  \n",
    "**Risks & guardrails.** The dataset is region-specific → possible **geographic bias**.  \n",
    "Chemistry ≠ taste; avoid overclaiming. Document model limits; if deployed, monitor drift and re-validate on diverse regions/vintages.\n",
    "\n",
    "See **Notebook 02** for detailed EDA (feature distributions, overlap) and preprocessing notes; no model training there yet."
   ]
  },
  {
   "cell_type": "markdown",
   "metadata": {},
   "source": [
    "## 7. Ethical & Regulatory Considerations\n",
    "\n",
    "### Ethical Assessment\n",
    "- **Risk Level**: Low (no personal data, no high-stakes decisions)\n",
    "- **Bias Concerns**: Geographic bias (Portuguese wines only)\n",
    "- **Transparency**: Model should be interpretable for quality control\n",
    "\n",
    "### Sustainability Note\n",
    "- Automated classification reduces manual testing waste\n",
    "- Enables better inventory management, reducing spoilage"
   ]
  },
  {
   "cell_type": "markdown",
   "metadata": {},
   "source": [
    "## 8. Dataset Alignment Statement\n",
    "\n",
    "The UCI Wine Quality dataset aligns well with our classification objectives. It provides 11 physicochemical features that are objectively measurable and directly relevant to distinguishing wine types. The moderate class imbalance (25% red, 75% white) reflects real-world production ratios and is manageable with appropriate techniques.\n",
    "\n",
    "**Strengths**: Clean data, expert-validated labels, interpretable features\n",
    "**Limitations**: Geographic constraint (Portuguese wines), no temporal information\n",
    "**Mitigation**: Acknowledge scope limitations, test on diverse wine samples if deployed"
   ]
  },
  {
   "cell_type": "markdown",
   "metadata": {},
   "source": [
    "## 9. Next Steps\n",
    "\n",
    "1. **Data Understanding**: Deep dive into feature distributions and relationships\n",
    "2. **Preprocessing Pipeline**: Scaling, handling outliers, feature engineering\n",
    "3. **Model Development**: Baseline models, then complexity escalation\n",
    "4. **Evaluation Framework**: Cross-validation setup, metric tracking"
   ]
  },
  {
   "cell_type": "code",
   "metadata": {
    "execution": {
     "iopub.execute_input": "2025-09-18T10:38:22.525794Z",
     "iopub.status.busy": "2025-09-18T10:38:22.525386Z",
     "iopub.status.idle": "2025-09-18T10:38:22.563915Z",
     "shell.execute_reply": "2025-09-18T10:38:22.560982Z"
    },
    "ExecuteTime": {
     "end_time": "2025-10-14T22:08:00.946219Z",
     "start_time": "2025-10-14T22:08:00.923727Z"
    }
   },
   "source": [
    "# Save processed dataset for next notebooks\n",
    "wine_data.to_csv('../data/wine_combined.csv', index=False)\n",
    "print(\"✓ Combined dataset saved to data/wine_combined.csv\")"
   ],
   "outputs": [
    {
     "name": "stdout",
     "output_type": "stream",
     "text": [
      "✓ Combined dataset saved to data/wine_combined.csv\n"
     ]
    }
   ],
   "execution_count": 31
  },
  {
   "cell_type": "markdown",
   "metadata": {},
   "source": [
    "## Key Takeaways\n",
    "\n",
    "- Binary classification problem with clear chemical distinctions\n",
    "- Moderate class imbalance requires careful metric selection\n",
    "- High interpretability needed for quality control applications\n",
    "- Baseline performance to beat: 75.4% (majority class)"
   ]
  }
 ],
 "metadata": {
  "kernelspec": {
   "display_name": "Python 3",
   "language": "python",
   "name": "python3"
  },
  "language_info": {
   "codemirror_mode": {
    "name": "ipython",
    "version": 3
   },
   "file_extension": ".py",
   "mimetype": "text/x-python",
   "name": "python",
   "nbconvert_exporter": "python",
   "pygments_lexer": "ipython3",
   "version": "3.12.7"
  }
 },
 "nbformat": 4,
 "nbformat_minor": 4
}
